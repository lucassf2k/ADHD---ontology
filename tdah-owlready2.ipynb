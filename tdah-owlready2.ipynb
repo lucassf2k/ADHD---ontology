{
  "nbformat": 4,
  "nbformat_minor": 0,
  "metadata": {
    "colab": {
      "provenance": []
    },
    "kernelspec": {
      "name": "python3",
      "display_name": "Python 3"
    },
    "language_info": {
      "name": "python"
    }
  },
  "cells": [
    {
      "cell_type": "code",
      "execution_count": null,
      "metadata": {
        "colab": {
          "base_uri": "https://localhost:8080/"
        },
        "id": "tjC95h3mS7GH",
        "outputId": "0b223606-72e3-49ab-8882-05608c94ff7b"
      },
      "outputs": [
        {
          "output_type": "stream",
          "name": "stdout",
          "text": [
            "Collecting owlready2\n",
            "  Downloading owlready2-0.47.tar.gz (27.3 MB)\n",
            "\u001b[2K     \u001b[90m━━━━━━━━━━━━━━━━━━━━━━━━━━━━━━━━━━━━━━━━\u001b[0m \u001b[32m27.3/27.3 MB\u001b[0m \u001b[31m34.2 MB/s\u001b[0m eta \u001b[36m0:00:00\u001b[0m\n",
            "\u001b[?25h  Installing build dependencies ... \u001b[?25l\u001b[?25hdone\n",
            "  Getting requirements to build wheel ... \u001b[?25l\u001b[?25hdone\n",
            "  Preparing metadata (pyproject.toml) ... \u001b[?25l\u001b[?25hdone\n",
            "Building wheels for collected packages: owlready2\n",
            "  Building wheel for owlready2 (pyproject.toml) ... \u001b[?25l\u001b[?25hdone\n",
            "  Created wheel for owlready2: filename=owlready2-0.47-cp310-cp310-linux_x86_64.whl size=24075194 sha256=c9ebc3cac4f2f2287f961a656e3019bd08c737e9eba4cfa38be17d007886dc43\n",
            "  Stored in directory: /root/.cache/pip/wheels/27/3e/ba/4171c4b10bba9fe1774fbf8fcf794de889e636ce64ad83a533\n",
            "Successfully built owlready2\n",
            "Installing collected packages: owlready2\n",
            "Successfully installed owlready2-0.47\n"
          ]
        }
      ],
      "source": [
        "!pip install owlready2\n",
        "from owlready2 import *"
      ]
    },
    {
      "cell_type": "code",
      "source": [
        "onto = get_ontology(\"file:///home/lucassf/repos/ADHD-ontology/tdah-owl.owl\")"
      ],
      "metadata": {
        "id": "fFstzQnmUNqF"
      },
      "execution_count": null,
      "outputs": []
    },
    {
      "cell_type": "markdown",
      "source": [
        "Criando Classes dos Sintomas:\n"
      ],
      "metadata": {
        "id": "POYO8YashiJ4"
      }
    },
    {
      "cell_type": "code",
      "source": [
        "with onto:\n",
        "  class Symptom(Thing):\n",
        "      pass\n",
        "\n"
      ],
      "metadata": {
        "id": "Nbq00WYHh6Ag"
      },
      "execution_count": null,
      "outputs": []
    },
    {
      "cell_type": "code",
      "source": [
        "list(onto.classes())"
      ],
      "metadata": {
        "colab": {
          "base_uri": "https://localhost:8080/"
        },
        "id": "ANxaCqC3HGz6",
        "outputId": "de32f3fe-9b50-4cc0-e730-b95461d498ba"
      },
      "execution_count": null,
      "outputs": [
        {
          "output_type": "execute_result",
          "data": {
            "text/plain": [
              "[tdah-owl.Symptom]"
            ]
          },
          "metadata": {},
          "execution_count": 56
        }
      ]
    },
    {
      "cell_type": "code",
      "source": [
        "class LackOfAttentionToDetail(onto.Symptom):\n",
        "    pass\n",
        "\n",
        "class DifficultyOrganizingTasks(onto.Symptom):\n",
        "    pass\n",
        "\n",
        "class TalksExcessively(onto.Symptom):\n",
        "    pass\n",
        "\n",
        "class FrequentlyMovesAround(onto.Symptom):\n",
        "    pass"
      ],
      "metadata": {
        "id": "BT5mqW8cGrGV"
      },
      "execution_count": null,
      "outputs": []
    },
    {
      "cell_type": "code",
      "source": [
        "list(onto.classes())"
      ],
      "metadata": {
        "colab": {
          "base_uri": "https://localhost:8080/"
        },
        "id": "0hOsfVuMIBHu",
        "outputId": "4145305f-4637-444d-df3c-3df525687ec4"
      },
      "execution_count": null,
      "outputs": [
        {
          "output_type": "execute_result",
          "data": {
            "text/plain": [
              "[tdah-owl.Symptom,\n",
              " tdah-owl.LackOfAttentionToDetail,\n",
              " tdah-owl.DifficultyOrganizingTasks,\n",
              " tdah-owl.TalksExcessively,\n",
              " tdah-owl.FrequentlyMovesAround]"
            ]
          },
          "metadata": {},
          "execution_count": 59
        }
      ]
    },
    {
      "cell_type": "markdown",
      "source": [
        "Criando classes impacts:"
      ],
      "metadata": {
        "id": "WAT-bOTVmuU2"
      }
    },
    {
      "cell_type": "code",
      "source": [
        "class SocialDemand(onto.Symptom):\n",
        "    pass\n",
        "\n",
        "class ContinuousFocus(onto.Symptom):\n",
        "    pass"
      ],
      "metadata": {
        "id": "Sx7ErBiym1SU"
      },
      "execution_count": null,
      "outputs": []
    },
    {
      "cell_type": "code",
      "source": [
        "list(onto.classes())"
      ],
      "metadata": {
        "colab": {
          "base_uri": "https://localhost:8080/"
        },
        "id": "QtIMEee-IK8W",
        "outputId": "e232eb3e-0c45-48f0-aab6-1f84ceaa4bd3"
      },
      "execution_count": null,
      "outputs": [
        {
          "output_type": "execute_result",
          "data": {
            "text/plain": [
              "[tdah-owl.Symptom,\n",
              " tdah-owl.LackOfAttentionToDetail,\n",
              " tdah-owl.DifficultyOrganizingTasks,\n",
              " tdah-owl.TalksExcessively,\n",
              " tdah-owl.FrequentlyMovesAround,\n",
              " tdah-owl.SocialDemand,\n",
              " tdah-owl.ContinuousFocus,\n",
              " tdah-owl.Person,\n",
              " tdah-owl.Patient,\n",
              " tdah-owl.Evaluation,\n",
              " tdah-owl.Medical,\n",
              " tdah-owl.Educational,\n",
              " tdah-owl.Developmental]"
            ]
          },
          "metadata": {},
          "execution_count": 196
        }
      ]
    },
    {
      "cell_type": "markdown",
      "source": [
        "Criando class de paciente"
      ],
      "metadata": {
        "id": "dTE4jmI3ns5u"
      }
    },
    {
      "cell_type": "code",
      "source": [
        "with onto:\n",
        "  class Person(Thing):\n",
        "    pass\n",
        "\n",
        "class Patient(onto.Person):\n",
        "    pass"
      ],
      "metadata": {
        "id": "GKCwJsIkny45"
      },
      "execution_count": null,
      "outputs": []
    },
    {
      "cell_type": "code",
      "source": [
        "list(onto.classes())"
      ],
      "metadata": {
        "colab": {
          "base_uri": "https://localhost:8080/"
        },
        "id": "Ma45e80dIXPv",
        "outputId": "a7604525-4ed3-4da9-a8c4-54caa82ab8c5"
      },
      "execution_count": null,
      "outputs": [
        {
          "output_type": "execute_result",
          "data": {
            "text/plain": [
              "[tdah-owl.Symptom,\n",
              " tdah-owl.LackOfAttentionToDetail,\n",
              " tdah-owl.DifficultyOrganizingTasks,\n",
              " tdah-owl.TalksExcessively,\n",
              " tdah-owl.FrequentlyMovesAround,\n",
              " tdah-owl.SocialDemand,\n",
              " tdah-owl.ContinuousFocus,\n",
              " tdah-owl.Person,\n",
              " tdah-owl.Patient]"
            ]
          },
          "metadata": {},
          "execution_count": 63
        }
      ]
    },
    {
      "cell_type": "markdown",
      "source": [
        "Criando Properties e data properties\n"
      ],
      "metadata": {
        "id": "CiAO8DdonKMy"
      }
    },
    {
      "cell_type": "code",
      "source": [
        "with onto:\n",
        "    class hasSymtom():\n",
        "        domain = [onto.Patient]\n",
        "        range = [onto.Symptom]\n",
        "\n",
        "\n",
        "with onto:\n",
        "    class hasImpacts():\n",
        "        domain = [onto.Symptom]\n",
        "        range = [onto.Symptom]\n",
        "\n",
        "\n",
        "with onto:\n",
        "    class hasDiagnosis():\n",
        "        domain = [onto.Person]\n",
        "        range = [int]"
      ],
      "metadata": {
        "id": "fzNicEOfnPf6"
      },
      "execution_count": null,
      "outputs": []
    },
    {
      "cell_type": "markdown",
      "source": [
        "Criando classes de Evaluation"
      ],
      "metadata": {
        "id": "5UT8b56grRVp"
      }
    },
    {
      "cell_type": "code",
      "source": [
        "with onto:\n",
        "  class Evaluation(Thing):\n",
        "    pass\n",
        "\n",
        "class Medical(onto.Evaluation):\n",
        "    pass\n",
        "\n",
        "class Educational(onto.Evaluation):\n",
        "    pass\n",
        "\n",
        "class Developmental(onto.Evaluation):\n",
        "    pass\n",
        "\n",
        "\n",
        "with onto:\n",
        "    class hasEvaluation(onto.Person >> onto.Evaluation):\n",
        "        pass"
      ],
      "metadata": {
        "id": "seCeWtMkr9BF"
      },
      "execution_count": null,
      "outputs": []
    },
    {
      "cell_type": "code",
      "source": [
        "with onto:\n",
        "    class has_evaluation(onto.Person >> onto.Evaluation):\n",
        "        pass\n",
        "\n",
        "    class has_symptom(onto.Patient >> onto.Symptom):\n",
        "        pass\n",
        "\n",
        "    class has_impacts(onto.Symptom >> onto.Symptom):\n",
        "        pass\n",
        "\n",
        "    class has_diagnosis(DataProperty, onto.Patient >> bool):\n",
        "        pass"
      ],
      "metadata": {
        "id": "FuLj6pjJhSXR"
      },
      "execution_count": null,
      "outputs": []
    },
    {
      "cell_type": "code",
      "source": [
        "with onto:\n",
        "    class has_symptom(onto.Patient >> onto.Symptom):\n",
        "        pass"
      ],
      "metadata": {
        "id": "efD60O22pwkk"
      },
      "execution_count": null,
      "outputs": []
    },
    {
      "cell_type": "markdown",
      "source": [
        "Instanciando..."
      ],
      "metadata": {
        "id": "NtyTR_IapjfJ"
      }
    },
    {
      "cell_type": "code",
      "source": [
        "jhon = Patient(\"Jhon\")\n",
        "\n",
        "s1 = LackOfAttentionToDetail()\n",
        "s2 = DifficultyOrganizingTasks()"
      ],
      "metadata": {
        "id": "eqUhbggaplnu"
      },
      "execution_count": null,
      "outputs": []
    },
    {
      "cell_type": "code",
      "source": [
        "pedro = Patient(\"Pedro\")\n",
        "pedro.has_symptom.append(s1)\n",
        "e2 = Educational()\n",
        "e3 = Developmental()\n",
        "\n",
        "jhon.has_evaluation = [e2, e3]"
      ],
      "metadata": {
        "id": "T8dVVf6CvLKH"
      },
      "execution_count": null,
      "outputs": []
    },
    {
      "cell_type": "code",
      "source": [
        "list(jhon.hasSymptom)"
      ],
      "metadata": {
        "colab": {
          "base_uri": "https://localhost:8080/"
        },
        "id": "u8EKxYQVKorY",
        "outputId": "c7846388-c650-4313-ca84-39020804d7c5"
      },
      "execution_count": null,
      "outputs": [
        {
          "output_type": "execute_result",
          "data": {
            "text/plain": [
              "[tdah-owl.lackofattentiontodetail1, tdah-owl.difficultyorganizingtasks1]"
            ]
          },
          "metadata": {},
          "execution_count": 74
        }
      ]
    },
    {
      "cell_type": "code",
      "source": [
        "e1 = Medical()\n",
        "e2 = Educational()\n",
        "e3 = Developmental()\n",
        "\n",
        "jhon.has_evaluation = [e1, e2, e3]"
      ],
      "metadata": {
        "id": "eLdPh4jSK5uC"
      },
      "execution_count": null,
      "outputs": []
    },
    {
      "cell_type": "code",
      "source": [
        "jhon.has_evaluation = [e1, e2, e3]\n",
        "list(jhon.hasEvaluation)"
      ],
      "metadata": {
        "colab": {
          "base_uri": "https://localhost:8080/"
        },
        "id": "ovAsqCbeLPFx",
        "outputId": "f5ad370b-5614-47c3-e222-b1cde167c767"
      },
      "execution_count": null,
      "outputs": [
        {
          "output_type": "execute_result",
          "data": {
            "text/plain": [
              "[tdah-owl.medical1, tdah-owl.educational1, tdah-owl.developmental1]"
            ]
          },
          "metadata": {},
          "execution_count": 205
        }
      ]
    },
    {
      "cell_type": "code",
      "source": [
        "jhon.has_diagnosis.append(True)\n",
        "\n",
        "print(jhon.has_diagnosis)"
      ],
      "metadata": {
        "colab": {
          "base_uri": "https://localhost:8080/"
        },
        "id": "jWQGRKPXLhEl",
        "outputId": "a4a8b16c-6abb-4c54-907b-bc03770ca674"
      },
      "execution_count": null,
      "outputs": [
        {
          "output_type": "stream",
          "name": "stdout",
          "text": [
            "[True, True]\n"
          ]
        }
      ]
    },
    {
      "cell_type": "code",
      "source": [
        "s3 = TalksExcessively()\n",
        "s4 = SocialDemand()\n",
        "s3.has_impacts.append(s4)\n",
        "jhon.has_symptom.append(s1)\n",
        "jhon.has_symptom.append(s2)\n",
        "jhon.has_symptom.append(s3)\n",
        "print(jhon.has_symptom[2].has_impacts)"
      ],
      "metadata": {
        "colab": {
          "base_uri": "https://localhost:8080/"
        },
        "id": "eWrXELqoMO9p",
        "outputId": "6970d519-fff6-4c22-86cc-e874d5e3fb77"
      },
      "execution_count": null,
      "outputs": [
        {
          "output_type": "stream",
          "name": "stdout",
          "text": [
            "[tdah-owl.socialdemand2, tdah-owl.socialdemand2]\n"
          ]
        }
      ]
    },
    {
      "cell_type": "code",
      "source": [
        "print(jhon.has_symptom)"
      ],
      "metadata": {
        "colab": {
          "base_uri": "https://localhost:8080/"
        },
        "id": "hwkf3eVjtu5b",
        "outputId": "619585d9-522a-4173-dcf2-d2c4d3183b2d"
      },
      "execution_count": null,
      "outputs": [
        {
          "output_type": "stream",
          "name": "stdout",
          "text": [
            "[tdah-owl.lackofattentiontodetail1, tdah-owl.difficultyorganizingtasks1, tdah-owl.talksexcessively2, tdah-owl.lackofattentiontodetail1, tdah-owl.difficultyorganizingtasks1, tdah-owl.talksexcessively2, tdah-owl.lackofattentiontodetail1, tdah-owl.difficultyorganizingtasks1, tdah-owl.talksexcessively3]\n"
          ]
        }
      ]
    },
    {
      "cell_type": "code",
      "source": [
        "for cls in onto.classes():\n",
        "    print(cls.iri)\n",
        "\n",
        "# Print all properties and their IRIs\n",
        "for prop in onto.properties():\n",
        "    print(prop.iri)"
      ],
      "metadata": {
        "id": "UoVphc-PWvm1"
      },
      "execution_count": null,
      "outputs": []
    },
    {
      "cell_type": "markdown",
      "source": [
        "Consultas"
      ],
      "metadata": {
        "id": "6KCaGfVSP_su"
      }
    },
    {
      "cell_type": "code",
      "source": [
        "# Consulta 1: Retorn tudo relacionado aos Symptom\n",
        "results = list(default_world.sparql(\"\"\"\n",
        "    PREFIX tdah: <file:///home/lucassf/repos/ADHD-ontology/tdah-owl.owl#>\n",
        "\n",
        "   SELECT ?s WHERE {\n",
        "        ?s ?p tdah:Symptom .\n",
        "    }\n",
        "\"\"\"))\n",
        "\n",
        "\n",
        "for result in results:\n",
        "    print(f\"Infos sobre sintoma: {result[0]}\")"
      ],
      "metadata": {
        "colab": {
          "base_uri": "https://localhost:8080/"
        },
        "id": "YC8JL4A3QA3-",
        "outputId": "8a9f72a0-d0cf-47d1-d9f5-d3c62f3c6a03"
      },
      "execution_count": null,
      "outputs": [
        {
          "output_type": "stream",
          "name": "stdout",
          "text": [
            "Sintomas: tdah-owl.has_impacts\n",
            "Sintomas: tdah-owl.has_symtom\n",
            "Sintomas: tdah-owl.has_impacts\n",
            "Sintomas: tdah-owl.has_symptom\n",
            "Sintomas: tdah-owl.LackOfAttentionToDetail\n",
            "Sintomas: tdah-owl.DifficultyOrganizingTasks\n",
            "Sintomas: tdah-owl.TalksExcessively\n",
            "Sintomas: tdah-owl.FrequentlyMovesAround\n",
            "Sintomas: tdah-owl.SocialDemand\n",
            "Sintomas: tdah-owl.ContinuousFocus\n"
          ]
        }
      ]
    },
    {
      "cell_type": "code",
      "source": [
        "# Consulta 1: Retorna as Avaliações que Jhon fez\n",
        "results = list(default_world.sparql(\"\"\"\n",
        "    PREFIX tdah: <file:///home/lucassf/repos/ADHD-ontology/tdah-owl.owl#>\n",
        "\n",
        "   SELECT ?o WHERE {\n",
        "        tdah:Jhon tdah:has_evaluation ?o .\n",
        "    }\n",
        "\"\"\"))\n",
        "\n",
        "\n",
        "for result in results:\n",
        "    print(f\"Avaliações: {result[0]}\")"
      ],
      "metadata": {
        "colab": {
          "base_uri": "https://localhost:8080/"
        },
        "id": "Fm85PCW3dzbp",
        "outputId": "3683275c-d4be-4fc6-b894-f4f32b0d33ff"
      },
      "execution_count": null,
      "outputs": [
        {
          "output_type": "stream",
          "name": "stdout",
          "text": [
            "Sintomas: tdah-owl.educational2\n",
            "Sintomas: tdah-owl.developmental2\n",
            "Sintomas: tdah-owl.medical2\n"
          ]
        }
      ]
    },
    {
      "cell_type": "code",
      "source": [
        "# Consulta 1: Retorna os sintomas e seus impactos\n",
        "results = list(default_world.sparql(\"\"\"\n",
        "    PREFIX tdah: <file:///home/lucassf/repos/ADHD-ontology/tdah-owl.owl#>\n",
        "\n",
        "   SELECT ?s ?o WHERE {\n",
        "        ?s tdah:has_impacts ?o .\n",
        "    }\n",
        "\"\"\"))\n",
        "\n",
        "\n",
        "for result in results:\n",
        "    print(f\"Sintomas: {result[0]} | Impactos: {result[1]}\")"
      ],
      "metadata": {
        "id": "xSEiKFExjbLE",
        "colab": {
          "base_uri": "https://localhost:8080/"
        },
        "outputId": "0420b3c5-520f-4e58-8abc-b1cd4d541bb9"
      },
      "execution_count": null,
      "outputs": [
        {
          "output_type": "stream",
          "name": "stdout",
          "text": [
            "Sintomas: tdah-owl.talksexcessively3 | s: tdah-owl.socialdemand3\n"
          ]
        }
      ]
    },
    {
      "cell_type": "code",
      "source": [
        "# Consulta 1: Retorna os Pacientes\n",
        "results = list(default_world.sparql(\"\"\"\n",
        "    PREFIX tdah: <file:///home/lucassf/repos/ADHD-ontology/tdah-owl.owl#>\n",
        "\n",
        "   SELECT ?p WHERE {\n",
        "        ?p rdf:type tdah:Patient .\n",
        "    }\n",
        "\"\"\"))\n",
        "\n",
        "\n",
        "for result in results:\n",
        "    print(f\"Pacientes: {result[0]}\")"
      ],
      "metadata": {
        "colab": {
          "base_uri": "https://localhost:8080/"
        },
        "id": "yxzFKgCbrj-V",
        "outputId": "45019a5e-d2cb-4364-a1a0-132a1e0f9cbd"
      },
      "execution_count": null,
      "outputs": [
        {
          "output_type": "stream",
          "name": "stdout",
          "text": [
            "Sintomas: tdah-owl.Jhon\n",
            "Sintomas: tdah-owl.Pedro\n"
          ]
        }
      ]
    },
    {
      "cell_type": "code",
      "source": [
        "# Consulta 6: Retorna os sintomas de Pedro\n",
        "\n",
        "results = list(default_world.sparql(\"\"\"\n",
        "    PREFIX tdah: <file:///home/lucassf/repos/ADHD-ontology/tdah-owl.owl#>\n",
        "\n",
        "   SELECT ?s WHERE {\n",
        "        tdah:Pedro tdah:has_symptom ?s .\n",
        "    }\n",
        "\"\"\"))\n",
        "\n",
        "\n",
        "for result in results:\n",
        "    print(f\"Sintomas: {result[0]}\")"
      ],
      "metadata": {
        "id": "YeMzonRIs6Eq"
      },
      "execution_count": null,
      "outputs": []
    },
    {
      "cell_type": "markdown",
      "source": [],
      "metadata": {
        "id": "ZRgPbXakK5aJ"
      }
    },
    {
      "cell_type": "code",
      "source": [
        "# Retorna os impactos de um determinado sintoma\n",
        "print(jhon.has_symptom[2].has_impacts)"
      ],
      "metadata": {
        "id": "TL9Bdiys-CFk"
      },
      "execution_count": null,
      "outputs": []
    }
  ]
}