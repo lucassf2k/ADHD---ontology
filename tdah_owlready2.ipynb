{
  "nbformat": 4,
  "nbformat_minor": 0,
  "metadata": {
    "colab": {
      "provenance": []
    },
    "kernelspec": {
      "name": "python3",
      "display_name": "Python 3"
    },
    "language_info": {
      "name": "python"
    }
  },
  "cells": [
    {
      "cell_type": "code",
      "execution_count": null,
      "metadata": {
        "colab": {
          "base_uri": "https://localhost:8080/"
        },
        "id": "tjC95h3mS7GH",
        "outputId": "72c6d8ba-81e8-47af-ce75-c478fc948b06"
      },
      "outputs": [
        {
          "output_type": "stream",
          "name": "stdout",
          "text": [
            "Collecting owlready2\n",
            "  Downloading owlready2-0.47.tar.gz (27.3 MB)\n",
            "\u001b[2K     \u001b[90m━━━━━━━━━━━━━━━━━━━━━━━━━━━━━━━━━━━━━━━━\u001b[0m \u001b[32m27.3/27.3 MB\u001b[0m \u001b[31m48.6 MB/s\u001b[0m eta \u001b[36m0:00:00\u001b[0m\n",
            "\u001b[?25h  Installing build dependencies ... \u001b[?25l\u001b[?25hdone\n",
            "  Getting requirements to build wheel ... \u001b[?25l\u001b[?25hdone\n",
            "  Preparing metadata (pyproject.toml) ... \u001b[?25l\u001b[?25hdone\n",
            "Building wheels for collected packages: owlready2\n",
            "  Building wheel for owlready2 (pyproject.toml) ... \u001b[?25l\u001b[?25hdone\n",
            "  Created wheel for owlready2: filename=owlready2-0.47-cp310-cp310-linux_x86_64.whl size=24075203 sha256=4a16fc2f5f39ed3f999afa25bed5014803e6048aba296c2bb069b5131413c075\n",
            "  Stored in directory: /root/.cache/pip/wheels/27/3e/ba/4171c4b10bba9fe1774fbf8fcf794de889e636ce64ad83a533\n",
            "Successfully built owlready2\n",
            "Installing collected packages: owlready2\n",
            "Successfully installed owlready2-0.47\n"
          ]
        }
      ],
      "source": [
        "!pip install owlready2\n",
        "from owlready2 import *"
      ]
    },
    {
      "cell_type": "code",
      "source": [
        "onto = get_ontology(\"file:///home/lucassf/repos/ADHD-ontology/tdah-owl.owl\").load()"
      ],
      "metadata": {
        "id": "fFstzQnmUNqF"
      },
      "execution_count": null,
      "outputs": []
    },
    {
      "cell_type": "markdown",
      "source": [
        "Criando Classes dos Sintomas:\n"
      ],
      "metadata": {
        "id": "POYO8YashiJ4"
      }
    },
    {
      "cell_type": "code",
      "source": [
        "with onto:\n",
        "  class Symptom(Thing):\n",
        "      pass\n",
        "\n"
      ],
      "metadata": {
        "id": "Nbq00WYHh6Ag"
      },
      "execution_count": null,
      "outputs": []
    },
    {
      "cell_type": "code",
      "source": [
        "list(onto.classes())"
      ],
      "metadata": {
        "colab": {
          "base_uri": "https://localhost:8080/"
        },
        "id": "ANxaCqC3HGz6",
        "outputId": "e2597f15-9295-424c-cd80-fc657eb56469"
      },
      "execution_count": null,
      "outputs": [
        {
          "output_type": "execute_result",
          "data": {
            "text/plain": [
              "[tdah-owl.Symptom,\n",
              " tdah-owl.LackOfAttentionToDetail,\n",
              " tdah-owl.DifficultyOrganizingTasks,\n",
              " tdah-owl.TalksExcessively,\n",
              " tdah-owl.FrequentlyMovesAround,\n",
              " tdah-owl.SocialDemand,\n",
              " tdah-owl.ContinuousFocus,\n",
              " tdah-owl.Person,\n",
              " tdah-owl.Patient,\n",
              " tdah-owl.Evaluation,\n",
              " tdah-owl.Medical,\n",
              " tdah-owl.Educational,\n",
              " tdah-owl.Developmental]"
            ]
          },
          "metadata": {},
          "execution_count": 30
        }
      ]
    },
    {
      "cell_type": "code",
      "source": [
        "class LackOfAttentionToDetail(onto.Symptom):\n",
        "    pass\n",
        "\n",
        "class DifficultyOrganizingTasks(onto.Symptom):\n",
        "    pass\n",
        "\n",
        "class TalksExcessively(onto.Symptom):\n",
        "    pass\n",
        "\n",
        "class FrequentlyMovesAround(onto.Symptom):\n",
        "    pass"
      ],
      "metadata": {
        "id": "BT5mqW8cGrGV"
      },
      "execution_count": null,
      "outputs": []
    },
    {
      "cell_type": "code",
      "source": [
        "list(onto.classes())"
      ],
      "metadata": {
        "colab": {
          "base_uri": "https://localhost:8080/"
        },
        "id": "0hOsfVuMIBHu",
        "outputId": "4145305f-4637-444d-df3c-3df525687ec4"
      },
      "execution_count": null,
      "outputs": [
        {
          "output_type": "execute_result",
          "data": {
            "text/plain": [
              "[tdah-owl.Symptom,\n",
              " tdah-owl.LackOfAttentionToDetail,\n",
              " tdah-owl.DifficultyOrganizingTasks,\n",
              " tdah-owl.TalksExcessively,\n",
              " tdah-owl.FrequentlyMovesAround]"
            ]
          },
          "metadata": {},
          "execution_count": 59
        }
      ]
    },
    {
      "cell_type": "markdown",
      "source": [
        "Criando classes impacts:"
      ],
      "metadata": {
        "id": "WAT-bOTVmuU2"
      }
    },
    {
      "cell_type": "code",
      "source": [
        "class SocialDemand(onto.Symptom):\n",
        "    pass\n",
        "\n",
        "class ContinuousFocus(onto.Symptom):\n",
        "    pass"
      ],
      "metadata": {
        "id": "Sx7ErBiym1SU"
      },
      "execution_count": null,
      "outputs": []
    },
    {
      "cell_type": "code",
      "source": [
        "list(onto.classes())"
      ],
      "metadata": {
        "colab": {
          "base_uri": "https://localhost:8080/"
        },
        "id": "QtIMEee-IK8W",
        "outputId": "e232eb3e-0c45-48f0-aab6-1f84ceaa4bd3"
      },
      "execution_count": null,
      "outputs": [
        {
          "output_type": "execute_result",
          "data": {
            "text/plain": [
              "[tdah-owl.Symptom,\n",
              " tdah-owl.LackOfAttentionToDetail,\n",
              " tdah-owl.DifficultyOrganizingTasks,\n",
              " tdah-owl.TalksExcessively,\n",
              " tdah-owl.FrequentlyMovesAround,\n",
              " tdah-owl.SocialDemand,\n",
              " tdah-owl.ContinuousFocus,\n",
              " tdah-owl.Person,\n",
              " tdah-owl.Patient,\n",
              " tdah-owl.Evaluation,\n",
              " tdah-owl.Medical,\n",
              " tdah-owl.Educational,\n",
              " tdah-owl.Developmental]"
            ]
          },
          "metadata": {},
          "execution_count": 196
        }
      ]
    },
    {
      "cell_type": "markdown",
      "source": [
        "Criando class de paciente"
      ],
      "metadata": {
        "id": "dTE4jmI3ns5u"
      }
    },
    {
      "cell_type": "code",
      "source": [
        "with onto:\n",
        "  class Person(Thing):\n",
        "    pass\n",
        "\n",
        "class Patient(onto.Person):\n",
        "    pass"
      ],
      "metadata": {
        "id": "GKCwJsIkny45"
      },
      "execution_count": null,
      "outputs": []
    },
    {
      "cell_type": "code",
      "source": [
        "list(onto.classes())"
      ],
      "metadata": {
        "colab": {
          "base_uri": "https://localhost:8080/"
        },
        "id": "Ma45e80dIXPv",
        "outputId": "a7604525-4ed3-4da9-a8c4-54caa82ab8c5"
      },
      "execution_count": null,
      "outputs": [
        {
          "output_type": "execute_result",
          "data": {
            "text/plain": [
              "[tdah-owl.Symptom,\n",
              " tdah-owl.LackOfAttentionToDetail,\n",
              " tdah-owl.DifficultyOrganizingTasks,\n",
              " tdah-owl.TalksExcessively,\n",
              " tdah-owl.FrequentlyMovesAround,\n",
              " tdah-owl.SocialDemand,\n",
              " tdah-owl.ContinuousFocus,\n",
              " tdah-owl.Person,\n",
              " tdah-owl.Patient]"
            ]
          },
          "metadata": {},
          "execution_count": 63
        }
      ]
    },
    {
      "cell_type": "markdown",
      "source": [
        "Criando Properties e data properties\n"
      ],
      "metadata": {
        "id": "CiAO8DdonKMy"
      }
    },
    {
      "cell_type": "code",
      "source": [
        "with onto:\n",
        "    class hasSymtom():\n",
        "        domain = [onto.Patient]\n",
        "        range = [onto.Symptom]\n",
        "\n",
        "\n",
        "with onto:\n",
        "    class hasImpacts():\n",
        "        domain = [onto.Symptom]\n",
        "        range = [onto.Symptom]\n",
        "\n",
        "\n",
        "with onto:\n",
        "    class hasDiagnosis():\n",
        "        domain = [onto.Person]\n",
        "        range = [int]"
      ],
      "metadata": {
        "id": "fzNicEOfnPf6"
      },
      "execution_count": null,
      "outputs": []
    },
    {
      "cell_type": "markdown",
      "source": [
        "Criando classes de Evaluation"
      ],
      "metadata": {
        "id": "5UT8b56grRVp"
      }
    },
    {
      "cell_type": "code",
      "source": [
        "with onto:\n",
        "  class Evaluation(Thing):\n",
        "    pass\n",
        "\n",
        "class Medical(onto.Evaluation):\n",
        "    pass\n",
        "\n",
        "class Educational(onto.Evaluation):\n",
        "    pass\n",
        "\n",
        "class Developmental(onto.Evaluation):\n",
        "    pass\n",
        "\n",
        "\n",
        "with onto:\n",
        "    class hasEvaluation(onto.Person >> onto.Evaluation):\n",
        "        pass"
      ],
      "metadata": {
        "id": "seCeWtMkr9BF"
      },
      "execution_count": null,
      "outputs": []
    },
    {
      "cell_type": "code",
      "source": [
        "with onto:\n",
        "    class has_evaluation(onto.Person >> onto.Evaluation):\n",
        "        pass\n",
        "\n",
        "    class has_symptom(onto.Patient >> onto.Symptom):\n",
        "        pass\n",
        "\n",
        "    class has_impacts(onto.Symptom >> onto.Symptom):\n",
        "        pass\n",
        "\n",
        "    class has_diagnosis(DataProperty, onto.Patient >> bool):\n",
        "        pass"
      ],
      "metadata": {
        "id": "FuLj6pjJhSXR"
      },
      "execution_count": null,
      "outputs": []
    },
    {
      "cell_type": "code",
      "source": [
        "with onto:\n",
        "    class has_symptom(onto.Patient >> onto.Symptom):\n",
        "        pass"
      ],
      "metadata": {
        "id": "efD60O22pwkk"
      },
      "execution_count": null,
      "outputs": []
    },
    {
      "cell_type": "markdown",
      "source": [
        "Instanciando..."
      ],
      "metadata": {
        "id": "NtyTR_IapjfJ"
      }
    },
    {
      "cell_type": "code",
      "source": [
        "jhon = Patient(\"Jhon\")\n",
        "\n",
        "s1 = LackOfAttentionToDetail()\n",
        "s2 = DifficultyOrganizingTasks()"
      ],
      "metadata": {
        "id": "eqUhbggaplnu"
      },
      "execution_count": null,
      "outputs": []
    },
    {
      "cell_type": "code",
      "source": [
        "pedro = Patient(\"Pedro\")\n",
        "pedro.has_symptom.append(s1)\n",
        "e2 = Educational()\n",
        "e3 = Developmental()\n",
        "\n",
        "jhon.has_evaluation = [e2, e3]"
      ],
      "metadata": {
        "id": "T8dVVf6CvLKH"
      },
      "execution_count": null,
      "outputs": []
    },
    {
      "cell_type": "code",
      "source": [
        "pedro.has_evaluation = [e3]"
      ],
      "metadata": {
        "id": "Elv5yFgb6BzS"
      },
      "execution_count": null,
      "outputs": []
    },
    {
      "cell_type": "code",
      "source": [
        "list(jhon.hasSymptom)"
      ],
      "metadata": {
        "colab": {
          "base_uri": "https://localhost:8080/"
        },
        "id": "u8EKxYQVKorY",
        "outputId": "c7846388-c650-4313-ca84-39020804d7c5"
      },
      "execution_count": null,
      "outputs": [
        {
          "output_type": "execute_result",
          "data": {
            "text/plain": [
              "[tdah-owl.lackofattentiontodetail1, tdah-owl.difficultyorganizingtasks1]"
            ]
          },
          "metadata": {},
          "execution_count": 74
        }
      ]
    },
    {
      "cell_type": "code",
      "source": [
        "e1 = Medical()\n",
        "e2 = Educational()\n",
        "e3 = Developmental()\n",
        "\n",
        "jhon.has_evaluation = [e1, e2, e3]"
      ],
      "metadata": {
        "id": "eLdPh4jSK5uC"
      },
      "execution_count": null,
      "outputs": []
    },
    {
      "cell_type": "code",
      "source": [
        "jhon.has_evaluation = [e1, e2, e3]\n",
        "list(jhon.hasEvaluation)"
      ],
      "metadata": {
        "colab": {
          "base_uri": "https://localhost:8080/"
        },
        "id": "ovAsqCbeLPFx",
        "outputId": "f5ad370b-5614-47c3-e222-b1cde167c767"
      },
      "execution_count": null,
      "outputs": [
        {
          "output_type": "execute_result",
          "data": {
            "text/plain": [
              "[tdah-owl.medical1, tdah-owl.educational1, tdah-owl.developmental1]"
            ]
          },
          "metadata": {},
          "execution_count": 205
        }
      ]
    },
    {
      "cell_type": "code",
      "source": [
        "jhon.has_diagnosis.append(True)\n",
        "\n",
        "print(jhon.has_diagnosis)"
      ],
      "metadata": {
        "colab": {
          "base_uri": "https://localhost:8080/"
        },
        "id": "jWQGRKPXLhEl",
        "outputId": "d10fbffe-30f1-4feb-c1ab-c9800c1ccab3"
      },
      "execution_count": null,
      "outputs": [
        {
          "output_type": "stream",
          "name": "stdout",
          "text": [
            "[True]\n"
          ]
        }
      ]
    },
    {
      "cell_type": "code",
      "source": [
        "s3 = TalksExcessively()\n",
        "s4 = SocialDemand()\n",
        "s3.has_impacts.append(s4)\n",
        "jhon.has_symptom.append(s1)\n",
        "jhon.has_symptom.append(s2)\n",
        "jhon.has_symptom.append(s3)\n",
        "print(jhon.has_symptom[2].has_impacts)"
      ],
      "metadata": {
        "colab": {
          "base_uri": "https://localhost:8080/"
        },
        "id": "eWrXELqoMO9p",
        "outputId": "2aca48f1-83cd-4aa2-8ecf-22ffbc4becbc"
      },
      "execution_count": null,
      "outputs": [
        {
          "output_type": "stream",
          "name": "stdout",
          "text": [
            "[tdah-owl.socialdemand1]\n"
          ]
        }
      ]
    },
    {
      "cell_type": "code",
      "source": [
        "print(jhon.has_symptom)"
      ],
      "metadata": {
        "colab": {
          "base_uri": "https://localhost:8080/"
        },
        "id": "hwkf3eVjtu5b",
        "outputId": "619585d9-522a-4173-dcf2-d2c4d3183b2d"
      },
      "execution_count": null,
      "outputs": [
        {
          "output_type": "stream",
          "name": "stdout",
          "text": [
            "[tdah-owl.lackofattentiontodetail1, tdah-owl.difficultyorganizingtasks1, tdah-owl.talksexcessively2, tdah-owl.lackofattentiontodetail1, tdah-owl.difficultyorganizingtasks1, tdah-owl.talksexcessively2, tdah-owl.lackofattentiontodetail1, tdah-owl.difficultyorganizingtasks1, tdah-owl.talksexcessively3]\n"
          ]
        }
      ]
    },
    {
      "cell_type": "code",
      "source": [
        "for cls in onto.classes():\n",
        "    print(cls.iri)\n",
        "\n",
        "# Print all properties and their IRIs\n",
        "for prop in onto.properties():\n",
        "    print(prop.iri)"
      ],
      "metadata": {
        "id": "UoVphc-PWvm1",
        "colab": {
          "base_uri": "https://localhost:8080/"
        },
        "outputId": "393727a7-fb38-4429-8d74-57af11edf0c5"
      },
      "execution_count": null,
      "outputs": [
        {
          "output_type": "stream",
          "name": "stdout",
          "text": [
            "file:///home/lucassf/repos/ADHD-ontology/tdah-owl.owl#Symptom\n",
            "file:///home/lucassf/repos/ADHD-ontology/tdah-owl.owl#LackOfAttentionToDetail\n",
            "file:///home/lucassf/repos/ADHD-ontology/tdah-owl.owl#DifficultyOrganizingTasks\n",
            "file:///home/lucassf/repos/ADHD-ontology/tdah-owl.owl#TalksExcessively\n",
            "file:///home/lucassf/repos/ADHD-ontology/tdah-owl.owl#FrequentlyMovesAround\n",
            "file:///home/lucassf/repos/ADHD-ontology/tdah-owl.owl#SocialDemand\n",
            "file:///home/lucassf/repos/ADHD-ontology/tdah-owl.owl#ContinuousFocus\n",
            "file:///home/lucassf/repos/ADHD-ontology/tdah-owl.owl#Person\n",
            "file:///home/lucassf/repos/ADHD-ontology/tdah-owl.owl#Patient\n",
            "file:///home/lucassf/repos/ADHD-ontology/tdah-owl.owl#Evaluation\n",
            "file:///home/lucassf/repos/ADHD-ontology/tdah-owl.owl#Medical\n",
            "file:///home/lucassf/repos/ADHD-ontology/tdah-owl.owl#Educational\n",
            "file:///home/lucassf/repos/ADHD-ontology/tdah-owl.owl#Developmental\n",
            "file:///home/lucassf/repos/ADHD-ontology/tdah-owl.owl#has_diagnosis\n",
            "file:///home/lucassf/repos/ADHD-ontology/tdah-owl.owl#hasEvaluation\n",
            "file:///home/lucassf/repos/ADHD-ontology/tdah-owl.owl#has_evaluation\n",
            "file:///home/lucassf/repos/ADHD-ontology/tdah-owl.owl#has_symptom\n",
            "file:///home/lucassf/repos/ADHD-ontology/tdah-owl.owl#has_impacts\n"
          ]
        }
      ]
    },
    {
      "cell_type": "markdown",
      "source": [
        "Consultas"
      ],
      "metadata": {
        "id": "6KCaGfVSP_su"
      }
    },
    {
      "cell_type": "code",
      "source": [
        "# Consulta 1: Retorn tudo relacionado aos Symptom\n",
        "results = list(default_world.sparql(\"\"\"\n",
        "    PREFIX tdah: <file:///home/lucassf/repos/ADHD-ontology/tdah-owl.owl#>\n",
        "\n",
        "   SELECT ?s WHERE {\n",
        "        ?s ?p tdah:Symptom .\n",
        "    }\n",
        "\"\"\"))\n",
        "\n",
        "\n",
        "for result in results:\n",
        "    print(f\"Infos sobre sintoma: {result[0]}\")"
      ],
      "metadata": {
        "colab": {
          "base_uri": "https://localhost:8080/"
        },
        "id": "YC8JL4A3QA3-",
        "outputId": "00b56ea2-8f77-450a-cf13-38574016cbf3"
      },
      "execution_count": null,
      "outputs": [
        {
          "output_type": "stream",
          "name": "stdout",
          "text": [
            "Infos sobre sintoma: tdah-owl.has_impacts\n",
            "Infos sobre sintoma: tdah-owl.has_symptom\n",
            "Infos sobre sintoma: tdah-owl.has_impacts\n",
            "Infos sobre sintoma: tdah-owl.LackOfAttentionToDetail\n",
            "Infos sobre sintoma: tdah-owl.DifficultyOrganizingTasks\n",
            "Infos sobre sintoma: tdah-owl.TalksExcessively\n",
            "Infos sobre sintoma: tdah-owl.FrequentlyMovesAround\n",
            "Infos sobre sintoma: tdah-owl.SocialDemand\n",
            "Infos sobre sintoma: tdah-owl.ContinuousFocus\n"
          ]
        }
      ]
    },
    {
      "cell_type": "code",
      "source": [
        "# Consulta 1: Retorna as Avaliações que Jhon fez\n",
        "results = list(default_world.sparql(\"\"\"\n",
        "    PREFIX tdah: <file:///home/lucassf/repos/ADHD-ontology/tdah-owl.owl#>\n",
        "\n",
        "   SELECT ?o WHERE {\n",
        "        tdah:Jhon tdah:has_evaluation ?o .\n",
        "    }\n",
        "\"\"\"))\n",
        "\n",
        "\n",
        "for result in results:\n",
        "    print(f\"Avaliações: {result[0]}\")"
      ],
      "metadata": {
        "colab": {
          "base_uri": "https://localhost:8080/"
        },
        "id": "Fm85PCW3dzbp",
        "outputId": "ffff2e55-5a08-4ceb-b933-5f5e9cc4e171"
      },
      "execution_count": null,
      "outputs": [
        {
          "output_type": "stream",
          "name": "stdout",
          "text": [
            "Avaliações: tdah-owl.medical1\n",
            "Avaliações: tdah-owl.educational2\n",
            "Avaliações: tdah-owl.developmental2\n"
          ]
        }
      ]
    },
    {
      "cell_type": "code",
      "source": [
        "# Consulta 1: Retorna os sintomas e seus impactos\n",
        "results = list(default_world.sparql(\"\"\"\n",
        "    PREFIX tdah: <file:///home/lucassf/repos/ADHD-ontology/tdah-owl.owl#>\n",
        "\n",
        "   SELECT ?s ?o WHERE {\n",
        "        ?s tdah:has_impacts ?o .\n",
        "    }\n",
        "\"\"\"))\n",
        "\n",
        "\n",
        "for result in results:\n",
        "    print(f\"Sintomas: {result[0]} | Impactos: {result[1]}\")"
      ],
      "metadata": {
        "id": "xSEiKFExjbLE",
        "colab": {
          "base_uri": "https://localhost:8080/"
        },
        "outputId": "2082cc37-0b3e-48bc-aa1e-34e68ac1a93b"
      },
      "execution_count": null,
      "outputs": [
        {
          "output_type": "stream",
          "name": "stdout",
          "text": [
            "Sintomas: tdah-owl.talksexcessively1 | Impactos: tdah-owl.socialdemand1\n"
          ]
        }
      ]
    },
    {
      "cell_type": "code",
      "source": [
        "# Consulta 1: Retorna os Pacientes\n",
        "results = list(default_world.sparql(\"\"\"\n",
        "    PREFIX tdah: <file:///home/lucassf/repos/ADHD-ontology/tdah-owl.owl#>\n",
        "\n",
        "   SELECT ?p WHERE {\n",
        "        ?p rdf:type tdah:Patient .\n",
        "    }\n",
        "\"\"\"))\n",
        "\n",
        "\n",
        "for result in results:\n",
        "    print(f\"Pacientes: {result[0]}\")"
      ],
      "metadata": {
        "colab": {
          "base_uri": "https://localhost:8080/"
        },
        "id": "yxzFKgCbrj-V",
        "outputId": "100c8392-17b3-4f8b-82dd-22c1ea393f21"
      },
      "execution_count": null,
      "outputs": [
        {
          "output_type": "stream",
          "name": "stdout",
          "text": [
            "Pacientes: tdah-owl.Jhon\n",
            "Pacientes: tdah-owl.Pedro\n"
          ]
        }
      ]
    },
    {
      "cell_type": "code",
      "source": [
        "# Consulta 6: Retorna os sintomas de Pedro\n",
        "\n",
        "results = list(default_world.sparql(\"\"\"\n",
        "    PREFIX tdah: <file:///home/lucassf/repos/ADHD-ontology/tdah-owl.owl#>\n",
        "\n",
        "   SELECT ?s WHERE {\n",
        "        tdah:Pedro tdah:has_symptom ?s .\n",
        "    }\n",
        "\"\"\"))\n",
        "\n",
        "\n",
        "for result in results:\n",
        "    print(f\"Sintomas: {result[0]}\")"
      ],
      "metadata": {
        "id": "YeMzonRIs6Eq",
        "colab": {
          "base_uri": "https://localhost:8080/"
        },
        "outputId": "78a90143-d547-47b5-d36a-0b857789172f"
      },
      "execution_count": null,
      "outputs": [
        {
          "output_type": "stream",
          "name": "stdout",
          "text": [
            "Sintomas: tdah-owl.lackofattentiontodetail1\n"
          ]
        }
      ]
    },
    {
      "cell_type": "code",
      "source": [
        "# Consulta 6: Retorna os sintomas que tem impactos de Jhon\n",
        "\n",
        "results = list(default_world.sparql(\"\"\"\n",
        "    PREFIX tdah: <file:///home/lucassf/repos/ADHD-ontology/tdah-owl.owl#>\n",
        "\n",
        "   SELECT ?s ?impact WHERE {\n",
        "        tdah:Jhon tdah:has_symptom ?s .\n",
        "        ?s tdah:has_impacts ?impact .\n",
        "    }\n",
        "\"\"\"))\n",
        "\n",
        "\n",
        "for result in results:\n",
        "    print(f\"Sintomas: {result[0]} | Impactos: {result[1]}\")"
      ],
      "metadata": {
        "id": "AhnbhBJegk-5",
        "colab": {
          "base_uri": "https://localhost:8080/"
        },
        "outputId": "79a8fc44-1deb-4279-afe2-415a565f0d5b"
      },
      "execution_count": null,
      "outputs": [
        {
          "output_type": "stream",
          "name": "stdout",
          "text": [
            "Sintomas: tdah-owl.talksexcessively1 | Impactos: tdah-owl.socialdemand1\n"
          ]
        }
      ]
    },
    {
      "cell_type": "code",
      "source": [
        "# Consulta 7: Essa consulta encontra todos os pacientes que possuem um diagnóstico confirmado (has_diagnosis = true) e lista seus sintomas.\n",
        "\n",
        "results = list(default_world.sparql(\"\"\"\n",
        "    PREFIX tdah: <file:///home/lucassf/repos/ADHD-ontology/tdah-owl.owl#>\n",
        "\n",
        "   SELECT ?patient ?symptom WHERE {\n",
        "      ?patient rdf:type tdah:Patient .\n",
        "      ?patient tdah:has_diagnosis true .\n",
        "      ?patient tdah:has_symptom ?symptom .\n",
        "  }\n",
        "\"\"\"))\n",
        "\n",
        "\n",
        "for result in results:\n",
        "    print(f\"Paciente: {result[0]} | Sintoma: {result[1]}\")"
      ],
      "metadata": {
        "colab": {
          "base_uri": "https://localhost:8080/"
        },
        "id": "wOWosCNk2XA1",
        "outputId": "9e4889fb-b587-4c52-d6cc-afa45de86f86"
      },
      "execution_count": null,
      "outputs": [
        {
          "output_type": "stream",
          "name": "stdout",
          "text": [
            "Paciente: tdah-owl.Jhon | Sintoma: tdah-owl.lackofattentiontodetail1\n",
            "Paciente: tdah-owl.Jhon | Sintoma: tdah-owl.difficultyorganizingtasks1\n",
            "Paciente: tdah-owl.Jhon | Sintoma: tdah-owl.talksexcessively1\n"
          ]
        }
      ]
    },
    {
      "cell_type": "code",
      "source": [
        "# Consulta 8: Essa consulta busca todos os pacientes que passaram por avaliações de tipo específico, como Educational ou Developmental.\n",
        "\n",
        "results = list(default_world.sparql(\"\"\"\n",
        "    PREFIX tdah: <file:///home/lucassf/repos/ADHD-ontology/tdah-owl.owl#>\n",
        "\n",
        "   SELECT ?patient ?evaluationType WHERE {\n",
        "    ?patient rdf:type tdah:Patient .\n",
        "    ?patient tdah:has_evaluation ?evaluation .\n",
        "    ?evaluation rdf:type ?evaluationType .\n",
        "    FILTER(?evaluationType = tdah:Educational || ?evaluationType = tdah:Developmental)\n",
        "  }\n",
        "\"\"\"))\n",
        "\n",
        "\n",
        "for result in results:\n",
        "    print(f\"Sintomas: {result[0]} | Avaliações: {result[1]}\")"
      ],
      "metadata": {
        "colab": {
          "base_uri": "https://localhost:8080/"
        },
        "id": "IqYhg6oH28BT",
        "outputId": "524aa7fc-5e22-4ab1-c487-4c7d4e5c05e7"
      },
      "execution_count": null,
      "outputs": [
        {
          "output_type": "stream",
          "name": "stdout",
          "text": [
            "Sintomas: tdah-owl.Jhon | Avaliações: tdah-owl.Educational\n",
            "Sintomas: tdah-owl.Jhon | Avaliações: tdah-owl.Developmental\n",
            "Sintomas: tdah-owl.Pedro | Avaliações: tdah-owl.Developmental\n"
          ]
        }
      ]
    },
    {
      "cell_type": "code",
      "source": [
        "# Consulta 9: Aqui, listamos todos os sintomas que estão associados a mais de um paciente, indicando que o sintoma é compartilhado.\n",
        "results = list(default_world.sparql(\"\"\"\n",
        "    PREFIX tdah: <file:///home/lucassf/repos/ADHD-ontology/tdah-owl.owl#>\n",
        "\n",
        "   SELECT ?symptom (COUNT(?patient) AS ?patientCount) WHERE {\n",
        "    ?patient rdf:type tdah:Patient .\n",
        "    ?patient tdah:has_symptom ?symptom .\n",
        "  }\n",
        "  GROUP BY ?symptom\n",
        "  HAVING (COUNT(?patient) > 1)\n",
        "\"\"\"))\n",
        "\n",
        "\n",
        "for result in results:\n",
        "    print(f\"Sintomas compartilhados por mais de um paciente: {result[0]}\")"
      ],
      "metadata": {
        "colab": {
          "base_uri": "https://localhost:8080/"
        },
        "id": "n1EZ9jfj3r4g",
        "outputId": "8c183db1-a390-49b0-b021-f879a75c6e32"
      },
      "execution_count": null,
      "outputs": [
        {
          "output_type": "stream",
          "name": "stdout",
          "text": [
            "Sintomas compartilhados por mais de um paciente: tdah-owl.lackofattentiontodetail1\n"
          ]
        }
      ]
    },
    {
      "cell_type": "code",
      "source": [
        "# Consulta 10: Essa consulta encontra pacientes que passaram por múltiplos tipos de avaliações (Medical, Educational, etc.), mostrando as combinações de avaliações que eles possuem.\n",
        "results = list(default_world.sparql(\"\"\"\n",
        "    PREFIX tdah: <file:///home/lucassf/repos/ADHD-ontology/tdah-owl.owl#>\n",
        "\n",
        "   SELECT ?patient (GROUP_CONCAT(?evaluationType; separator=\", \") AS ?evaluationTypes) WHERE {\n",
        "    ?patient rdf:type tdah:Patient .\n",
        "    ?patient tdah:has_evaluation ?evaluation .\n",
        "    ?evaluation rdf:type ?evaluationType .\n",
        "  }\n",
        "  GROUP BY ?patient\n",
        "  HAVING (COUNT(?evaluation) > 1)\n",
        "\"\"\"))\n",
        "\n",
        "\n",
        "for result in results:\n",
        "    print(f\"Pacientes que passaram por avaliações: {result[0]}\")"
      ],
      "metadata": {
        "colab": {
          "base_uri": "https://localhost:8080/"
        },
        "id": "3OGY_0-u5tob",
        "outputId": "2f2d6958-d327-4200-d8e6-3c014f048f0b"
      },
      "execution_count": null,
      "outputs": [
        {
          "output_type": "stream",
          "name": "stdout",
          "text": [
            "Pacientes que passaram por avaliações: tdah-owl.Jhon\n",
            "Pacientes que passaram por avaliações: tdah-owl.Pedro\n"
          ]
        }
      ]
    },
    {
      "cell_type": "code",
      "source": [
        "# Consulta 11: Essa consulta verifica sintomas associados a avaliações específicas, neste caso, sintomas que aparecem em avaliações de tipo Developmental.\n",
        "results = list(default_world.sparql(\"\"\"\n",
        "    PREFIX tdah: <file:///home/lucassf/repos/ADHD-ontology/tdah-owl.owl#>\n",
        "\n",
        "   SELECT ?patient ?symptom WHERE {\n",
        "    ?patient rdf:type tdah:Patient .\n",
        "    ?patient tdah:has_evaluation ?evaluation .\n",
        "    ?evaluation rdf:type tdah:Developmental .\n",
        "    ?patient tdah:has_symptom ?symptom .\n",
        "  }\n",
        "\"\"\"))\n",
        "\n",
        "\n",
        "for result in results:\n",
        "    print(f\"Paciente: {result[0]} | Sintoma: {result[1]}\")"
      ],
      "metadata": {
        "colab": {
          "base_uri": "https://localhost:8080/"
        },
        "id": "-4OdG2pu6eEY",
        "outputId": "1f4cdc42-52d3-41ff-b4d0-df6432b11116"
      },
      "execution_count": null,
      "outputs": [
        {
          "output_type": "stream",
          "name": "stdout",
          "text": [
            "Paciente: tdah-owl.Jhon | Sintoma: tdah-owl.lackofattentiontodetail1\n",
            "Paciente: tdah-owl.Jhon | Sintoma: tdah-owl.difficultyorganizingtasks1\n",
            "Paciente: tdah-owl.Jhon | Sintoma: tdah-owl.talksexcessively1\n",
            "Paciente: tdah-owl.Pedro | Sintoma: tdah-owl.lackofattentiontodetail1\n"
          ]
        }
      ]
    },
    {
      "cell_type": "markdown",
      "source": [],
      "metadata": {
        "id": "ZRgPbXakK5aJ"
      }
    },
    {
      "cell_type": "code",
      "source": [
        "# Retorna os impactos de um determinado sintoma\n",
        "print(jhon.has_symptom[2].has_impacts)"
      ],
      "metadata": {
        "id": "TL9Bdiys-CFk"
      },
      "execution_count": null,
      "outputs": []
    }
  ]
}